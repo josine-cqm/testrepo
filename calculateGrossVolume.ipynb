{
 "cells": [
  {
   "cell_type": "code",
   "execution_count": null,
   "metadata": {},
   "outputs": [],
   "source": [
    "########################################################################################################\n",
    "# Calculate the gross volume\n",
    "########################################################################################################\n",
    "## 0. Read the (relevant) NASA data\n",
    "## 1. Determine length, Width, Height and Nett Volume per product\n",
    "## 2. Determine assortmentgroup per product (Note this is the assortmentgroup as known in WMS)\n",
    "## 3. Use the above inputs to determine the spare space (stapellucht/VCF) and gross volume\n",
    "## with the toolbox/model of Jan Looman\n",
    "## 4. Export the result (to gross volume (m3) data)\n"
   ]
  },
  {
   "cell_type": "code",
   "execution_count": null,
   "metadata": {},
   "outputs": [],
   "source": [
    "########################################################################################################\n",
    "## 0. Read the (relevant) NASA data\n",
    "########################################################################################################\n",
    "## (code)"
   ]
  }
 ],
 "metadata": {
  "kernelspec": {
   "display_name": "Python 3",
   "language": "python",
   "name": "python3"
  },
  "language_info": {
   "codemirror_mode": {
    "name": "ipython",
    "version": 3
   },
   "file_extension": ".py",
   "mimetype": "text/x-python",
   "name": "python",
   "nbconvert_exporter": "python",
   "pygments_lexer": "ipython3",
   "version": "3.7.0"
  }
 },
 "nbformat": 4,
 "nbformat_minor": 4
}
